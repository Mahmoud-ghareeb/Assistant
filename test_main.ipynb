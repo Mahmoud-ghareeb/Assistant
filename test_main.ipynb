{
 "cells": [
  {
   "cell_type": "markdown",
   "metadata": {},
   "source": [
    "## Upload Books"
   ]
  },
  {
   "cell_type": "code",
   "execution_count": null,
   "metadata": {},
   "outputs": [],
   "source": [
    "import requests\n",
    "\n",
    "url = \"http://127.0.0.1:8080\"\n",
    "book_name = \"Tashkeel Guidelines.pdf\"\n",
    "book_path = \"Tashkeel Guidelines.pdf\"\n",
    "upload_type = \"application/pdf\"\n",
    "\n",
    "payload = {}\n",
    "files=[\n",
    "  ('file',(book_name, open(book_path,'rb'), upload_type))\n",
    "]\n",
    "headers = {}\n",
    "\n",
    "response = requests.request(\"POST\", url, headers=headers, data=payload, files=files)\n",
    "\n",
    "print(response.text)"
   ]
  },
  {
   "cell_type": "markdown",
   "metadata": {},
   "source": [
    "## Test Stream Text"
   ]
  },
  {
   "cell_type": "code",
   "execution_count": null,
   "metadata": {},
   "outputs": [],
   "source": [
    "import requests\n",
    "import json\n",
    "\n",
    "stream_url = 'http://localhost:8080/text'\n",
    "data = {\n",
    "    \"message\": \"what is the content of the file\"\n",
    "}  \n",
    "\n",
    "headers = {'Content-Type': 'application/json'}\n",
    "\n",
    "with requests.post(stream_url, data=json.dumps(data),headers=headers, stream=True) as response:\n",
    "    if response.status_code == 200:\n",
    "        for chunk in response:\n",
    "            print(chunk.decode('utf-8'), end=\"\")\n",
    "    else:\n",
    "        print(\"Failed to connect to the streaming service\")\n"
   ]
  }
 ],
 "metadata": {
  "kernelspec": {
   "display_name": "assistant",
   "language": "python",
   "name": "python3"
  },
  "language_info": {
   "codemirror_mode": {
    "name": "ipython",
    "version": 3
   },
   "file_extension": ".py",
   "mimetype": "text/x-python",
   "name": "python",
   "nbconvert_exporter": "python",
   "pygments_lexer": "ipython3",
   "version": "3.12.0"
  }
 },
 "nbformat": 4,
 "nbformat_minor": 2
}
